{
 "cells": [
  {
   "cell_type": "code",
   "execution_count": null,
   "id": "1900a1fe-c79d-47a8-8238-10da63c9004b",
   "metadata": {},
   "outputs": [
    {
     "name": "stdout",
     "output_type": "stream",
     "text": [
      "Listening on port 8018...\n",
      "<class 'int'> 1997\n",
      "9\n",
      "(10, 'name_checker', '2022-12-22 16:24:01', 1997)\n"
     ]
    },
    {
     "name": "stderr",
     "output_type": "stream",
     "text": [
      "127.0.0.1 - - [22/Dec/2022 16:24:01] \"POST /RPC2 HTTP/1.1\" 200 -\n"
     ]
    },
    {
     "name": "stdout",
     "output_type": "stream",
     "text": [
      "<class 'int'> 1997\n",
      "10\n",
      "(11, 'name_checker', '2022-12-22 16:24:03', 1997)\n"
     ]
    },
    {
     "name": "stderr",
     "output_type": "stream",
     "text": [
      "127.0.0.1 - - [22/Dec/2022 16:24:03] \"POST /RPC2 HTTP/1.1\" 200 -\n"
     ]
    },
    {
     "name": "stdout",
     "output_type": "stream",
     "text": [
      "<class 'int'> 0\n",
      "11\n",
      "(12, 'pow', '2022-12-22 16:31:22', 0)\n"
     ]
    },
    {
     "name": "stderr",
     "output_type": "stream",
     "text": [
      "127.0.0.1 - - [22/Dec/2022 16:31:22] \"POST /RPC2 HTTP/1.1\" 200 -\n"
     ]
    },
    {
     "name": "stdout",
     "output_type": "stream",
     "text": [
      "<class 'int'> 0\n",
      "12\n",
      "(13, 'pow', '2022-12-22 16:31:24', 0)\n"
     ]
    },
    {
     "name": "stderr",
     "output_type": "stream",
     "text": [
      "127.0.0.1 - - [22/Dec/2022 16:31:24] \"POST /RPC2 HTTP/1.1\" 200 -\n"
     ]
    },
    {
     "name": "stdout",
     "output_type": "stream",
     "text": [
      "<class 'int'> 0\n",
      "13\n",
      "(14, 'binar_send', '2022-12-22 16:31:38', 0)\n"
     ]
    },
    {
     "name": "stderr",
     "output_type": "stream",
     "text": [
      "127.0.0.1 - - [22/Dec/2022 16:31:38] \"POST /RPC2 HTTP/1.1\" 200 -\n"
     ]
    },
    {
     "name": "stdout",
     "output_type": "stream",
     "text": [
      "<class 'int'> 0\n",
      "14\n",
      "(15, 'binar_send', '2022-12-22 16:31:41', 0)\n"
     ]
    },
    {
     "name": "stderr",
     "output_type": "stream",
     "text": [
      "127.0.0.1 - - [22/Dec/2022 16:31:41] \"POST /RPC2 HTTP/1.1\" 200 -\n"
     ]
    },
    {
     "name": "stdout",
     "output_type": "stream",
     "text": [
      "<class 'int'> 90792\n",
      "15\n",
      "(16, 'inversion', '2022-12-22 16:31:50', 90792)\n"
     ]
    },
    {
     "name": "stderr",
     "output_type": "stream",
     "text": [
      "127.0.0.1 - - [22/Dec/2022 16:31:50] \"POST /RPC2 HTTP/1.1\" 200 -\n"
     ]
    },
    {
     "name": "stdout",
     "output_type": "stream",
     "text": [
      "<class 'int'> 90792\n",
      "16\n",
      "(17, 'inversion', '2022-12-22 16:31:52', 90792)\n"
     ]
    },
    {
     "name": "stderr",
     "output_type": "stream",
     "text": [
      "127.0.0.1 - - [22/Dec/2022 16:31:52] \"POST /RPC2 HTTP/1.1\" 200 -\n"
     ]
    },
    {
     "name": "stdout",
     "output_type": "stream",
     "text": [
      "<class 'int'> 2870\n",
      "17\n",
      "(18, 'name_checker', '2022-12-22 16:32:06', 2870)\n"
     ]
    },
    {
     "name": "stderr",
     "output_type": "stream",
     "text": [
      "127.0.0.1 - - [22/Dec/2022 16:32:06] \"POST /RPC2 HTTP/1.1\" 200 -\n"
     ]
    },
    {
     "name": "stdout",
     "output_type": "stream",
     "text": [
      "<class 'int'> 2870\n",
      "18\n",
      "(19, 'name_checker', '2022-12-22 16:32:08', 2870)\n"
     ]
    },
    {
     "name": "stderr",
     "output_type": "stream",
     "text": [
      "127.0.0.1 - - [22/Dec/2022 16:32:08] \"POST /RPC2 HTTP/1.1\" 200 -\n"
     ]
    },
    {
     "name": "stdout",
     "output_type": "stream",
     "text": [
      "<class 'int'> 458437\n",
      "19\n",
      "(20, 'mirroring', '2022-12-22 16:32:18', 458437)\n"
     ]
    },
    {
     "name": "stderr",
     "output_type": "stream",
     "text": [
      "127.0.0.1 - - [22/Dec/2022 16:32:18] \"POST /RPC2 HTTP/1.1\" 200 -\n"
     ]
    },
    {
     "name": "stdout",
     "output_type": "stream",
     "text": [
      "<class 'int'> 458437\n",
      "20\n",
      "(21, 'mirroring', '2022-12-22 16:32:20', 458437)\n"
     ]
    },
    {
     "name": "stderr",
     "output_type": "stream",
     "text": [
      "127.0.0.1 - - [22/Dec/2022 16:32:20] \"POST /RPC2 HTTP/1.1\" 200 -\n"
     ]
    },
    {
     "name": "stdout",
     "output_type": "stream",
     "text": [
      "<class 'int'> 935892\n",
      "21\n",
      "(22, 'binarization', '2022-12-22 16:34:08', 935892)\n"
     ]
    },
    {
     "name": "stderr",
     "output_type": "stream",
     "text": [
      "127.0.0.1 - - [22/Dec/2022 16:34:08] \"POST /RPC2 HTTP/1.1\" 200 -\n"
     ]
    },
    {
     "name": "stdout",
     "output_type": "stream",
     "text": [
      "<class 'int'> 935892\n",
      "22\n",
      "(23, 'binarization', '2022-12-22 16:34:10', 935892)\n"
     ]
    },
    {
     "name": "stderr",
     "output_type": "stream",
     "text": [
      "127.0.0.1 - - [22/Dec/2022 16:34:10] \"POST /RPC2 HTTP/1.1\" 200 -\n",
      "127.0.0.1 - - [22/Dec/2022 16:34:32] \"POST /RPC2 HTTP/1.1\" 200 -\n"
     ]
    }
   ],
   "source": [
    "\n",
    "from xmlrpc.server import SimpleXMLRPCServer\n",
    "from xmlrpc.server import SimpleXMLRPCRequestHandler\n",
    "import pandas as pd\n",
    "import datetime\n",
    "import os\n",
    "import glob\n",
    "import csv\n",
    "import sqlite3\n",
    "\n",
    "class RequestHandler(SimpleXMLRPCRequestHandler):\n",
    "    rpc_paths = ('/RPC2',)\n",
    "\n",
    "server = SimpleXMLRPCServer((\"localhost\", 8018), \n",
    "                            requestHandler=RequestHandler)\n",
    "def database_creation():\n",
    "    cursor = sqllite_connection.cursor()\n",
    "    cursor.execute('''CREATE TABLE logs(\n",
    "                ID INTEGER PRIMARY KEY,\n",
    "                Name TEXT NOT NULL,\n",
    "                Date TEXT NOT NULL,\n",
    "                WorkTimeSec INTEGER\n",
    "               );''')\n",
    "    \n",
    "def add_log_db(sname, stime, sworkingtime):\n",
    "    connection = sqlite3.connect('log.db')\n",
    "    with connection:\n",
    "        date = datetime.datetime.now().strftime(\"%Y-%m-%d %H:%M:%S\")\n",
    "        cursor1 = connection.cursor()\n",
    "        maxid = cursor1.execute(\"SELECT MAX(ID) from logs order by id desc limit 1\")\n",
    "        maxid = cursor1.fetchone()\n",
    "        #stime = stime.strftime(\"%Y-%m-%d %H:%M:%S\")\n",
    "        print(str(type(sworkingtime)), sworkingtime)\n",
    "        print(maxid[0])\n",
    "        if(maxid[0] is None):\n",
    "            data = (1, sname, date,  sworkingtime)\n",
    "        else:\n",
    "            data = (maxid[0]+1, sname, date,  sworkingtime)\n",
    "        print(data)\n",
    "        cursor1.execute(\"INSERT INTO logs (ID, Name, Date, WorkTimeSec) VALUES(?,?,?,?)\", data)\n",
    "        connection.commit()\n",
    "    return True\n",
    "server.register_function(add_log_db, 'add_log_db')\n",
    "\n",
    "\n",
    "# Добавление строки в лог\n",
    "def add_log(sname):\n",
    "    x = 0\n",
    "    with open('log.csv') as f:\n",
    "        x = sum(1 for line in f)\n",
    "    f = open('log.csv','a+')\n",
    "    if(x > 100):\n",
    "        f.close()\n",
    "        name = datetime.datetime.now().strftime(\"%Y%m%d_%H%M%S\") + '.csv'\n",
    "        os.rename('log.csv', name)\n",
    "        f = open('log.csv', 'w')\n",
    "    f.write(str(sname)+','+ datetime.datetime.now().strftime(\"%Y-%m-%d %H:%M:%S\") +'\\n')\n",
    "    f.close()\n",
    "    return True\n",
    "\n",
    "server.register_function(add_log, 'add_log')\n",
    "\n",
    "\n",
    "def get_journal_db(query, date2):\n",
    "    cursor = sqlite_connection.cursor()\n",
    "    request = f'''SELECT * FROM logs WHERE instr(Name, {query}) or instr(Date, {query}) or instr(WorkTimeSec, {query}) ORDER BY ID'''\n",
    "    cursor.execute(request)\n",
    "    ans = cursor.fetchall()\n",
    "    return ans\n",
    "server.register_function(get_journal_db, 'get_journal_db')\n",
    "\n",
    "def get_journal(sname):\n",
    "    logs = glob.glob(\"*.csv\")\n",
    "    logos = []\n",
    "    for log in logs:\n",
    "        with open(log, encoding='utf8') as fk:         \n",
    "            file_reader = csv.reader(fk, delimiter = \",\")\n",
    "            for row in file_reader:\n",
    "                if row[0] == sname or sname in row[1]:\n",
    "                    logos.append(row)   \n",
    "    \n",
    "    return logos\n",
    "server.register_function(get_journal, 'get_journal')    \n",
    "            \n",
    "\n",
    "print (\"Listening on port 8018...\")\n",
    "server.serve_forever()\n",
    "\n"
   ]
  },
  {
   "cell_type": "code",
   "execution_count": null,
   "id": "78cc7fab-6693-49a4-b169-2049a6d86fa5",
   "metadata": {},
   "outputs": [],
   "source": []
  },
  {
   "cell_type": "code",
   "execution_count": 2,
   "id": "2a02afa1-3463-4810-9308-e0d613f9dbbd",
   "metadata": {},
   "outputs": [],
   "source": [
    "import sqlite3\n",
    "connection = sqlite3.connect(\"log.db\")\n",
    "cursor1 = connection.cursor()\n",
    "query = f'SELECT * from log'\n",
    "#cursor1.commit()\n",
    "for row in cursor1.execute(query):\n",
    "    print(row)"
   ]
  },
  {
   "cell_type": "code",
   "execution_count": 2,
   "id": "c3ba7b3c-4e29-42f7-a18d-76a6f8de895e",
   "metadata": {},
   "outputs": [],
   "source": [
    "import sqlite3\n",
    "sqlite_connection = sqlite3.connect(\"log.db\")\n",
    "cursor = sqlite_connection.cursor()\n",
    "#cursor.execute('''CREATE TABLE logs(\n",
    " #               ID INTEGER PRIMARY KEY,\n",
    "  #              Name TEXT NOT NULL,\n",
    "   ##             Date TEXT NOT NULL,\n",
    "     #           WorkTimeSec INTEGER\n",
    "     #          );''')\n",
    "sqlite_connection.commit()"
   ]
  },
  {
   "cell_type": "code",
   "execution_count": 1,
   "id": "24be3bad-14c0-484d-815a-e05e3846952f",
   "metadata": {},
   "outputs": [
    {
     "name": "stdout",
     "output_type": "stream",
     "text": [
      "[(1, 'name_checker', '2022-12-19 16:46:29', 1), (2, 'name_checker', '2022-12-22 15:15:20', 0), (3, 'name_checker', '2022-12-22 15:18:29', 0), (4, 'name_checker', '2022-12-22 15:23:54', 0.0029730796813964844), (5, 'name_checker', '2022-12-22 15:45:30', 0)]\n"
     ]
    }
   ],
   "source": [
    "import datetime\n",
    "import sqlite3\n",
    "sqlite_connection = sqlite3.connect(\"log.db\")\n",
    "cursor = sqlite_connection.cursor()\n",
    "now = datetime.datetime.now()\n",
    "\n",
    "\n",
    "cursor.execute(f'SELECT * FROM logs')\n",
    "arr = cursor.fetchall()\n",
    "print (arr)"
   ]
  },
  {
   "cell_type": "code",
   "execution_count": 3,
   "id": "2bf89406-bdb8-4cda-a37a-4930a8574e89",
   "metadata": {},
   "outputs": [
    {
     "ename": "OperationalError",
     "evalue": "table logs already exists",
     "output_type": "error",
     "traceback": [
      "\u001b[1;31m---------------------------------------------------------------------------\u001b[0m",
      "\u001b[1;31mOperationalError\u001b[0m                          Traceback (most recent call last)",
      "Input \u001b[1;32mIn [3]\u001b[0m, in \u001b[0;36m<cell line: 5>\u001b[1;34m()\u001b[0m\n\u001b[0;32m      3\u001b[0m mydb \u001b[38;5;241m=\u001b[39m sqlite3\u001b[38;5;241m.\u001b[39mconnect(\u001b[38;5;124m\"\u001b[39m\u001b[38;5;124mlog.db\u001b[39m\u001b[38;5;124m\"\u001b[39m)\n\u001b[0;32m      4\u001b[0m cursor \u001b[38;5;241m=\u001b[39m mydb\u001b[38;5;241m.\u001b[39mcursor()\n\u001b[1;32m----> 5\u001b[0m \u001b[43mcursor\u001b[49m\u001b[38;5;241;43m.\u001b[39;49m\u001b[43mexecute\u001b[49m\u001b[43m(\u001b[49m\u001b[38;5;124;43m'''\u001b[39;49m\u001b[38;5;124;43mCREATE TABLE logs(\u001b[39;49m\n\u001b[0;32m      6\u001b[0m \u001b[38;5;124;43m             ID INTEGER PRIMARY KEY,\u001b[39;49m\n\u001b[0;32m      7\u001b[0m \u001b[38;5;124;43m             Name TEXT NOT NULL,\u001b[39;49m\n\u001b[0;32m      8\u001b[0m \u001b[38;5;124;43m            Date TEXT NOT NULL,\u001b[39;49m\n\u001b[0;32m      9\u001b[0m \u001b[38;5;124;43m          WorkTimeSec INTEGER\u001b[39;49m\n\u001b[0;32m     10\u001b[0m \u001b[38;5;124;43m         );\u001b[39;49m\u001b[38;5;124;43m'''\u001b[39;49m\u001b[43m)\u001b[49m\n",
      "\u001b[1;31mOperationalError\u001b[0m: table logs already exists"
     ]
    }
   ],
   "source": [
    "import datetime\n",
    "import sqlite3\n",
    "mydb = sqlite3.connect(\"log.db\")\n",
    "cursor = mydb.cursor()\n",
    "cursor.execute('''CREATE TABLE logs(\n",
    "             ID INTEGER PRIMARY KEY,\n",
    "             Name TEXT NOT NULL,\n",
    "            Date TEXT NOT NULL,\n",
    "          WorkTimeSec INTEGER\n",
    "         );''')\n",
    "\n"
   ]
  },
  {
   "cell_type": "code",
   "execution_count": null,
   "id": "7fae6980-dab4-48a6-81ed-a662b2d9d88d",
   "metadata": {},
   "outputs": [],
   "source": []
  }
 ],
 "metadata": {
  "kernelspec": {
   "display_name": "Python 3 (ipykernel)",
   "language": "python",
   "name": "python3"
  },
  "language_info": {
   "codemirror_mode": {
    "name": "ipython",
    "version": 3
   },
   "file_extension": ".py",
   "mimetype": "text/x-python",
   "name": "python",
   "nbconvert_exporter": "python",
   "pygments_lexer": "ipython3",
   "version": "3.9.12"
  }
 },
 "nbformat": 4,
 "nbformat_minor": 5
}
