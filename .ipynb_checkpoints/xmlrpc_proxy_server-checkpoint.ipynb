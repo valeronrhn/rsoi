{
 "cells": [
  {
   "cell_type": "code",
   "execution_count": null,
   "id": "fe3cb171-492a-4526-8a3c-448b7775eacc",
   "metadata": {},
   "outputs": [
    {
     "name": "stdout",
     "output_type": "stream",
     "text": [
      "Listening on port 8028...\n",
      "black_list_check\n"
     ]
    },
    {
     "name": "stderr",
     "output_type": "stream",
     "text": [
      "127.0.0.1 - - [22/Dec/2022 15:51:58] \"POST /RPC2 HTTP/1.1\" 200 -\n"
     ]
    },
    {
     "name": "stdout",
     "output_type": "stream",
     "text": [
      "black_list_check\n"
     ]
    },
    {
     "name": "stderr",
     "output_type": "stream",
     "text": [
      "127.0.0.1 - - [22/Dec/2022 15:57:21] \"POST /RPC2 HTTP/1.1\" 200 -\n"
     ]
    },
    {
     "name": "stdout",
     "output_type": "stream",
     "text": [
      "black_list_check\n"
     ]
    },
    {
     "name": "stderr",
     "output_type": "stream",
     "text": [
      "127.0.0.1 - - [22/Dec/2022 16:21:46] \"POST /RPC2 HTTP/1.1\" 200 -\n"
     ]
    },
    {
     "name": "stdout",
     "output_type": "stream",
     "text": [
      "black_list_check\n"
     ]
    },
    {
     "name": "stderr",
     "output_type": "stream",
     "text": [
      "127.0.0.1 - - [22/Dec/2022 16:22:38] \"POST /RPC2 HTTP/1.1\" 200 -\n"
     ]
    },
    {
     "name": "stdout",
     "output_type": "stream",
     "text": [
      "black_list_check\n"
     ]
    },
    {
     "name": "stderr",
     "output_type": "stream",
     "text": [
      "127.0.0.1 - - [22/Dec/2022 16:23:18] \"POST /RPC2 HTTP/1.1\" 200 -\n"
     ]
    },
    {
     "name": "stdout",
     "output_type": "stream",
     "text": [
      "black_list_check\n"
     ]
    },
    {
     "name": "stderr",
     "output_type": "stream",
     "text": [
      "127.0.0.1 - - [22/Dec/2022 16:24:03] \"POST /RPC2 HTTP/1.1\" 200 -\n"
     ]
    },
    {
     "name": "stdout",
     "output_type": "stream",
     "text": [
      "pow\n"
     ]
    },
    {
     "name": "stderr",
     "output_type": "stream",
     "text": [
      "127.0.0.1 - - [22/Dec/2022 16:31:24] \"POST /RPC2 HTTP/1.1\" 200 -\n"
     ]
    },
    {
     "name": "stdout",
     "output_type": "stream",
     "text": [
      "send_back_binary\n"
     ]
    },
    {
     "name": "stderr",
     "output_type": "stream",
     "text": [
      "127.0.0.1 - - [22/Dec/2022 16:31:41] \"POST /RPC2 HTTP/1.1\" 200 -\n"
     ]
    },
    {
     "name": "stdout",
     "output_type": "stream",
     "text": [
      "color_inversion\n"
     ]
    },
    {
     "name": "stderr",
     "output_type": "stream",
     "text": [
      "127.0.0.1 - - [22/Dec/2022 16:31:52] \"POST /RPC2 HTTP/1.1\" 200 -\n"
     ]
    },
    {
     "name": "stdout",
     "output_type": "stream",
     "text": [
      "black_list_check\n"
     ]
    },
    {
     "name": "stderr",
     "output_type": "stream",
     "text": [
      "127.0.0.1 - - [22/Dec/2022 16:32:08] \"POST /RPC2 HTTP/1.1\" 200 -\n"
     ]
    },
    {
     "name": "stdout",
     "output_type": "stream",
     "text": [
      "image_mirrorring\n"
     ]
    },
    {
     "name": "stderr",
     "output_type": "stream",
     "text": [
      "127.0.0.1 - - [22/Dec/2022 16:32:20] \"POST /RPC2 HTTP/1.1\" 200 -\n"
     ]
    },
    {
     "name": "stdout",
     "output_type": "stream",
     "text": [
      "binarisation_image\n"
     ]
    },
    {
     "name": "stderr",
     "output_type": "stream",
     "text": [
      "127.0.0.1 - - [22/Dec/2022 16:34:10] \"POST /RPC2 HTTP/1.1\" 200 -\n"
     ]
    },
    {
     "name": "stdout",
     "output_type": "stream",
     "text": [
      "get_journal_from_server_db\n"
     ]
    },
    {
     "name": "stderr",
     "output_type": "stream",
     "text": [
      "127.0.0.1 - - [22/Dec/2022 16:34:32] \"POST /RPC2 HTTP/1.1\" 200 -\n"
     ]
    }
   ],
   "source": [
    "# xmlpc_proxy_server.ipynb\n",
    "\n",
    "import matplotlib.pyplot as plt\n",
    "from pylab import *\n",
    "\n",
    "\n",
    "from xmlrpc.server import SimpleXMLRPCServer\n",
    "from xmlrpc.server import SimpleXMLRPCRequestHandler\n",
    "import xmlrpc\n",
    "from datetime import datetime\n",
    "import pandas as pd\n",
    "import pickle\n",
    "import os\n",
    "import requests\n",
    "\n",
    "class RequestHandler(SimpleXMLRPCRequestHandler):\n",
    "    rpc_paths = ('/RPC2',)\n",
    "\n",
    "server = SimpleXMLRPCServer((\"localhost\", 8028), \n",
    "                            requestHandler=RequestHandler)\n",
    "\n",
    "server.register_introspection_functions()\n",
    "\n",
    "stats_server = xmlrpc.client.ServerProxy(\"http://localhost:8008\")\n",
    "\n",
    "def get_function(fname, arg1 = '', arg2 = '', arg3 = '', arg4 = '' ):\n",
    "    now_date = datetime.now()\n",
    "    #print('Время события - ', now_date)\n",
    "    ans = ''\n",
    "    print(fname)\n",
    "    if(fname == 'now'):\n",
    "        ans = stats_server.now()\n",
    "    elif(fname == 'ping'):\n",
    "        ans = stats_server.ping()\n",
    "    elif(fname == 'type'):\n",
    "        ans = stats_server.type(arg1)\n",
    "    elif(fname == 'sum'):\n",
    "        ans = stats_server.sum(arg1, arg2)\n",
    "    elif(fname == 'pow'):\n",
    "        ans = stats_server.pow(arg1, arg2)\n",
    "    elif(fname == 'black_list_check'):\n",
    "        ans = stats_server.black_list_check(arg1)\n",
    "    elif(fname == 'send_back_binary'):\n",
    "        ans = stats_server.send_back_binary(arg1)\n",
    "    elif(fname == 'color_inversion'):\n",
    "        ans = stats_server.color_inversion(arg1)\n",
    "    elif(fname == 'image_mirrorring'):\n",
    "        ans = stats_server.image_mirrorring(arg1)\n",
    "    elif(fname == 'binarisation_image'):\n",
    "        ans = stats_server.binarisation_image(arg1, arg2)\n",
    "    elif(fname == 'fio_birth_check'):\n",
    "        ans = stats_server.fio_birth_check(arg1, arg2, arg3, arg4)\n",
    "    elif(fname == 'get_journal_from_server'):\n",
    "        ans = stats_server.get_journal_from_server(arg1)\n",
    "    elif (fname == 'get_journal_from_server_db'):\n",
    "        ans = stats_server.get_journal_from_server_db(arg1)\n",
    "    #print (datetime.now() - now_date)\n",
    "    return ans\n",
    "server.register_function(get_function, 'get_function')    \n",
    "\n",
    "\n",
    "print (\"Listening on port 8028...\")\n",
    "\n",
    "\n",
    "server.serve_forever()"
   ]
  },
  {
   "cell_type": "code",
   "execution_count": null,
   "id": "9bbc2fba-f8d8-40ab-ba74-c71577ec40e9",
   "metadata": {},
   "outputs": [],
   "source": []
  }
 ],
 "metadata": {
  "kernelspec": {
   "display_name": "Python 3 (ipykernel)",
   "language": "python",
   "name": "python3"
  },
  "language_info": {
   "codemirror_mode": {
    "name": "ipython",
    "version": 3
   },
   "file_extension": ".py",
   "mimetype": "text/x-python",
   "name": "python",
   "nbconvert_exporter": "python",
   "pygments_lexer": "ipython3",
   "version": "3.9.12"
  }
 },
 "nbformat": 4,
 "nbformat_minor": 5
}
