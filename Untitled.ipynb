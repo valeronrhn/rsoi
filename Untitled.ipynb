{
 "cells": [
  {
   "cell_type": "code",
   "execution_count": 3,
   "id": "d3245182",
   "metadata": {},
   "outputs": [
    {
     "name": "stderr",
     "output_type": "stream",
     "text": [
      "warning: in the working copy of 'Untitled.ipynb', LF will be replaced by CRLF the next time Git touches it\n"
     ]
    },
    {
     "name": "stdout",
     "output_type": "stream",
     "text": [
      "[main (root-commit) 5bf3e50] Р›Р°Р±РѕСЂР°С‚РѕСЂРЅР°СЏ СЂР°Р±РѕС‚Р° Р РЎРћР� в„–3\n",
      " 12 files changed, 2942 insertions(+)\n",
      " create mode 100644 .ipynb_checkpoints/Untitled-checkpoint.ipynb\n",
      " create mode 100644 .ipynb_checkpoints/xmlrpc_client-checkpoint.ipynb\n",
      " create mode 100644 .ipynb_checkpoints/xmlrpc_proxy_server-checkpoint.ipynb\n",
      " create mode 100644 .ipynb_checkpoints/xmlrpc_server-checkpoint.ipynb\n",
      " create mode 100644 .ipynb_checkpoints/xmlrpc_stats_server-checkpoint.ipynb\n",
      " create mode 100644 Untitled.ipynb\n",
      " create mode 100644 log.csv\n",
      " create mode 100644 log.db\n",
      " create mode 100644 xmlrpc_client.ipynb\n",
      " create mode 100644 xmlrpc_proxy_server.ipynb\n",
      " create mode 100644 xmlrpc_server.ipynb\n",
      " create mode 100644 xmlrpc_stats_server.ipynb\n",
      "branch 'main' set up to track 'origin/main'.\n"
     ]
    },
    {
     "name": "stderr",
     "output_type": "stream",
     "text": [
      "To https://github.com/valeronrhn/rsoi.git\n",
      " * [new branch]      main -> main\n"
     ]
    }
   ],
   "source": [
    "!git config --global user.email \"verohin57@gmail.com\"\n",
    "!git config --global user.name \"Valeriy Erokhin\"\n",
    "!git add -A\n",
    "!git commit -m \"Лабораторная работа РСОИ №3\"\n",
    "!git branch -M main\n",
    "!git push -u origin main"
   ]
  },
  {
   "cell_type": "code",
   "execution_count": null,
   "id": "7843f0a9",
   "metadata": {},
   "outputs": [],
   "source": []
  }
 ],
 "metadata": {
  "kernelspec": {
   "display_name": "Python 3 (ipykernel)",
   "language": "python",
   "name": "python3"
  },
  "language_info": {
   "codemirror_mode": {
    "name": "ipython",
    "version": 3
   },
   "file_extension": ".py",
   "mimetype": "text/x-python",
   "name": "python",
   "nbconvert_exporter": "python",
   "pygments_lexer": "ipython3",
   "version": "3.11.4"
  }
 },
 "nbformat": 4,
 "nbformat_minor": 5
}
